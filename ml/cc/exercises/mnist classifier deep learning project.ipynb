{
  "cells": [
    {
      "cell_type": "markdown",
      "metadata": {
        "id": "view-in-github",
        "colab_type": "text"
      },
      "source": [
        "<a href=\"https://colab.research.google.com/github/prasoon1506/Analysis-of-Attitudes-towards-Carbon-Pricing-in-India-A-Sampling-and-Hypothesis-Testing-Study/blob/main/ml/cc/exercises/mnist%20classifier%20deep%20learning%20project.ipynb\" target=\"_parent\"><img src=\"https://colab.research.google.com/assets/colab-badge.svg\" alt=\"Open In Colab\"/></a>"
      ]
    },
    {
      "cell_type": "code",
      "source": [
        "import numpy as np\n",
        "import pandas as pd\n",
        "import matplotlib.pyplot as plt\n",
        "import random\n",
        "\n",
        "from keras.datasets import mnist\n",
        "from keras.models import Sequential\n",
        "from keras.layers import Dense, Dropout, Activation\n",
        "!pip install np_utils"
      ],
      "metadata": {
        "id": "IvLYVCcjUq2Z"
      },
      "execution_count": null,
      "outputs": []
    },
    {
      "cell_type": "code",
      "source": [
        "(X_train,y_train),(X_test,y_test)=mnist.load_data()"
      ],
      "metadata": {
        "id": "XKRN8KLpcCDy"
      },
      "execution_count": null,
      "outputs": []
    },
    {
      "cell_type": "code",
      "source": [
        "print(X_train.shape)\n",
        "print(X_test.shape)\n",
        "print(y_train.shape)\n",
        "print(y_test.shape)"
      ],
      "metadata": {
        "id": "-7IkkUZXcQpo"
      },
      "execution_count": null,
      "outputs": []
    },
    {
      "cell_type": "code",
      "source": [
        "for i in range (9):\n",
        "    plt.subplot(330+i+1)\n",
        "    num=random.randint(0,len(X_train))\n",
        "    plt.imshow(X_train[num],cmap=plt.get_cmap('gray'),interpolation=\"none\")\n",
        "    plt.title(\"Class{}\".format(y_train[num]))\n",
        "plt.tight_layout()\n"
      ],
      "metadata": {
        "id": "00NwOdLrdLoC"
      },
      "execution_count": null,
      "outputs": []
    },
    {
      "cell_type": "code",
      "source": [
        "X_train=X_train.reshape(60000,784)\n",
        "X_test=X_test.reshape(10000,784)\n",
        "X_train=X_train.astype('float32')\n",
        "X_test=X_test.astype('float32')\n",
        "X_train/=255\n",
        "X_test/=255\n",
        "print(X_train.shape)\n",
        "print(X_test.shape)"
      ],
      "metadata": {
        "id": "NBukCOoUeOLU"
      },
      "execution_count": null,
      "outputs": []
    },
    {
      "cell_type": "code",
      "source": [
        "num_classes=10\n",
        "from keras.utils import to_categorical\n",
        "y_train=to_categorical(y_train,num_classes)\n",
        "y_test=to_categorical(y_test,num_classes)"
      ],
      "metadata": {
        "id": "sZ5lm_oHgum3"
      },
      "execution_count": null,
      "outputs": []
    },
    {
      "cell_type": "code",
      "source": [
        "model=Sequential()"
      ],
      "metadata": {
        "id": "PhADq5KioKsA"
      },
      "execution_count": null,
      "outputs": []
    },
    {
      "cell_type": "code",
      "source": [
        "model.add(Dense(512,input_shape=(784,)))\n",
        "model.add(Activation('relu'))\n",
        "model.add(Dropout(0.2))\n"
      ],
      "metadata": {
        "id": "ify_kNq0oQbs"
      },
      "execution_count": null,
      "outputs": []
    },
    {
      "cell_type": "code",
      "source": [
        "model.add(Dense(512))\n",
        "model.add(Activation('relu'))\n",
        "model.add(Dropout(0.2))"
      ],
      "metadata": {
        "id": "I-wJN635pKKG"
      },
      "execution_count": null,
      "outputs": []
    },
    {
      "cell_type": "code",
      "source": [
        "model.add(Dense (10))\n",
        "model.add(Activation('softmax'))"
      ],
      "metadata": {
        "id": "gRwPhxxnpZ5Y"
      },
      "execution_count": null,
      "outputs": []
    },
    {
      "cell_type": "code",
      "source": [
        "model.summary()"
      ],
      "metadata": {
        "id": "c3iHfKDIphUm"
      },
      "execution_count": null,
      "outputs": []
    },
    {
      "cell_type": "code",
      "source": [
        "from keras.utils import plot_model\n",
        "plot_model(model,to_file=\"model_chart.png\",show_shapes=True,show_layer_names=True)\n",
        "from IPython.display import Image\n",
        "Image(\"model_chart.png\")"
      ],
      "metadata": {
        "id": "hxZZwG-zpt3d"
      },
      "execution_count": null,
      "outputs": []
    },
    {
      "cell_type": "code",
      "source": [
        "model.compile(loss=\"categorical_crossentropy\",optimizer=\"adam\",metrics=[\"accuracy\"])"
      ],
      "metadata": {
        "id": "2y-Gp2p4qd9h"
      },
      "execution_count": null,
      "outputs": []
    },
    {
      "cell_type": "code",
      "source": [
        "history=model.fit (X_train,y_train,batch_size=128,epochs=10,verbose=1)"
      ],
      "metadata": {
        "id": "4o7llrVLrdG2"
      },
      "execution_count": null,
      "outputs": []
    },
    {
      "cell_type": "code",
      "source": [
        "score=model.evaluate(X_test,y_test)\n",
        "print(\"Test accuracy:\",score[1])"
      ],
      "metadata": {
        "id": "XY3c6ZS4sOLM"
      },
      "execution_count": null,
      "outputs": []
    },
    {
      "cell_type": "code",
      "source": [
        "fig=plt.figure()\n",
        "plt.subplot(2,1,1)\n",
        "plt.plot(history.history[\"accuracy\"])\n",
        "plt.title(\"model accuracy\")\n",
        "plt.ylabel(\"accuracy\")\n",
        "plt.xlabel(\"epoch\")\n",
        "plt.legend([\"train\",\"test\"],loc=\"lower right\")"
      ],
      "metadata": {
        "id": "h7id1j94su2m"
      },
      "execution_count": null,
      "outputs": []
    },
    {
      "cell_type": "code",
      "source": [
        "plt.subplot(2,1,2)\n",
        "plt.plot(history.history[\"loss\"])\n",
        "plt.title(\"model loss\")\n",
        "plt.ylabel(\"loss\")\n",
        "plt.xlabel(\"epoch\")\n",
        "plt.legend([\"train\",\"test\"],loc=\"upper right\")\n"
      ],
      "metadata": {
        "id": "RWYnnkNQthX3"
      },
      "execution_count": null,
      "outputs": []
    },
    {
      "cell_type": "code",
      "source": [
        "test_data=pd.read_csv(\"/content/sample_data/mnist_test.csv\",delimiter=\",\",header=0,usecols=[x for x in range(0,784)])\n",
        "results = model.predict(test_data)"
      ],
      "metadata": {
        "id": "sbM4reNDt5i9"
      },
      "execution_count": null,
      "outputs": []
    },
    {
      "cell_type": "code",
      "source": [
        "results=np.argmax(results,axis=1)\n",
        "results=pd.Series(results,name=\"Label\")\n",
        "submission=pd.concat([pd.Series(range(1,28001),name=\"ImageId\"),results],axis=1)\n",
        "submission.to_csv(\"submission.csv\",index=False)"
      ],
      "metadata": {
        "id": "uTnwcohavjeO"
      },
      "execution_count": null,
      "outputs": []
    },
    {
      "cell_type": "code",
      "source": [
        "print(submission)"
      ],
      "metadata": {
        "id": "VAryrf6twFkQ"
      },
      "execution_count": null,
      "outputs": []
    },
    {
      "cell_type": "code",
      "source": [
        "\n",
        "predict_x=model.predict(X_test)\n",
        "classes_x=np.argmax(predict_x,axis=1)\n",
        "\n",
        "# Convert y_test to 1D array of class labels if it's one-hot encoded\n",
        "y_test_labels = np.argmax(y_test, axis=1)\n",
        "\n",
        "correct_indices=np.nonzero(classes_x==y_test_labels)[0]\n",
        "incorrect_indices=np.nonzero(classes_x!=y_test_labels)[0]"
      ],
      "metadata": {
        "id": "PkKCeaPKwZx7"
      },
      "execution_count": null,
      "outputs": []
    },
    {
      "cell_type": "code",
      "source": [
        "plt.figure()\n",
        "for i, correct in enumerate(correct_indices[:9]):\n",
        "    plt.subplot(3,3,i+1)\n",
        "    plt.imshow(X_test[correct].reshape(28,28),cmap=\"gray\",interpolation=\"none\")\n",
        "    plt.title(\"Predicted {}, Class {}\".format(classes_x[correct],y_test_labels[correct]))\n",
        "plt.tight_layout()"
      ],
      "metadata": {
        "id": "BKbfNzdeyTXS"
      },
      "execution_count": null,
      "outputs": []
    },
    {
      "cell_type": "code",
      "source": [
        "plt.figure()\n",
        "for i, incorrect in enumerate(incorrect_indices[:9]):\n",
        "    plt.subplot(3,3,i+1)\n",
        "    plt.imshow(X_test[incorrect].reshape(28,28),cmap=\"gray\",interpolation=\"none\")\n",
        "    plt.title(\"Predicted {}, Class {}\".format(classes_x[incorrect],y_test_labels[incorrect]))\n",
        "plt.tight_layout()"
      ],
      "metadata": {
        "id": "XrpK27V8zJxx"
      },
      "execution_count": null,
      "outputs": []
    }
  ],
  "metadata": {
    "colab": {
      "name": "Linear Regression with Synthetic Data.ipynb",
      "private_outputs": true,
      "provenance": [],
      "include_colab_link": true
    },
    "kernelspec": {
      "display_name": "Python 3",
      "name": "python3"
    }
  },
  "nbformat": 4,
  "nbformat_minor": 0
}