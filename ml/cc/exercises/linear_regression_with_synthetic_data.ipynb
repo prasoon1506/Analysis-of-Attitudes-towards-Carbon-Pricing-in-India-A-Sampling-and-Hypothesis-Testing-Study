{
  "cells": [
    {
      "cell_type": "markdown",
      "metadata": {
        "id": "view-in-github",
        "colab_type": "text"
      },
      "source": [
        "<a href=\"https://colab.research.google.com/github/prasoon1506/Analysis-of-Attitudes-towards-Carbon-Pricing-in-India-A-Sampling-and-Hypothesis-Testing-Study/blob/main/ml/cc/exercises/linear_regression_with_synthetic_data.ipynb\" target=\"_parent\"><img src=\"https://colab.research.google.com/assets/colab-badge.svg\" alt=\"Open In Colab\"/></a>"
      ]
    },
    {
      "cell_type": "code",
      "source": [
        "import numpy as np\n",
        "import pandas as pd\n",
        "import matplotlib.pyplot as plt\n",
        "import random\n",
        "\n",
        "from keras.datasets import mnist\n",
        "from keras.models import Sequential\n",
        "from keras.layers import Dense, Dropout, Activation\n",
        "!pip install np_utils"
      ],
      "metadata": {
        "id": "IvLYVCcjUq2Z"
      },
      "execution_count": null,
      "outputs": []
    },
    {
      "cell_type": "code",
      "source": [
        "(X_train,y_train),(X_test,y_test)=mnist.load_data()"
      ],
      "metadata": {
        "id": "XKRN8KLpcCDy"
      },
      "execution_count": null,
      "outputs": []
    },
    {
      "cell_type": "code",
      "source": [
        "print(X_train.shape)\n",
        "print(X_test.shape)\n",
        "print(y_train.shape)\n",
        "print(y_test.shape)"
      ],
      "metadata": {
        "id": "-7IkkUZXcQpo"
      },
      "execution_count": null,
      "outputs": []
    },
    {
      "cell_type": "code",
      "source": [
        "for i in range (9):\n",
        "    plt.subplot(330+i+1)\n",
        "    num=random.randint(0,len(X_train))\n",
        "    plt.imshow(X_train[num],cmap=plt.get_cmap('gray'),interpolation=\"none\")\n",
        "    plt.title(\"Class{}\".format(y_train[num]))\n",
        "plt.tight_layout()\n"
      ],
      "metadata": {
        "id": "00NwOdLrdLoC"
      },
      "execution_count": null,
      "outputs": []
    },
    {
      "cell_type": "code",
      "source": [
        "X_train=X_train.reshape(60000,784)\n",
        "X_test=X_test.reshape(10000,784)\n",
        "X_train=X_train.astype('float32')\n",
        "X_test=X_test.astype('float32')\n",
        "X_train/=255\n",
        "X_test/=255\n",
        "print(X_train.shape)\n",
        "print(X_test.shape)"
      ],
      "metadata": {
        "id": "NBukCOoUeOLU"
      },
      "execution_count": null,
      "outputs": []
    },
    {
      "cell_type": "code",
      "source": [
        "num_classes=10\n",
        "from keras.utils import to_categorical\n",
        "y_train=to_categorical(y_train,num_classes)\n",
        "y_test=to_categorical(y_test,num_classes)"
      ],
      "metadata": {
        "id": "sZ5lm_oHgum3"
      },
      "execution_count": null,
      "outputs": []
    },
    {
      "cell_type": "code",
      "source": [
        "model=Sequential()"
      ],
      "metadata": {
        "id": "PhADq5KioKsA"
      },
      "execution_count": null,
      "outputs": []
    },
    {
      "cell_type": "code",
      "source": [
        "model.add(Dense(512,input_shape=(784,)))\n",
        "model.add(Activation('relu'))\n",
        "model.add(Dropout(0.2))\n"
      ],
      "metadata": {
        "id": "ify_kNq0oQbs"
      },
      "execution_count": null,
      "outputs": []
    },
    {
      "cell_type": "code",
      "source": [
        "model.add(Dense(512))\n",
        "model.add(Activation('relu'))\n",
        "model.add(Dropout(0.2))"
      ],
      "metadata": {
        "id": "I-wJN635pKKG"
      },
      "execution_count": null,
      "outputs": []
    },
    {
      "cell_type": "code",
      "source": [
        "model.add(Dense (10))\n",
        "model.add(Activation('softmax'))"
      ],
      "metadata": {
        "id": "gRwPhxxnpZ5Y"
      },
      "execution_count": null,
      "outputs": []
    },
    {
      "cell_type": "code",
      "source": [
        "model.summary()"
      ],
      "metadata": {
        "id": "c3iHfKDIphUm"
      },
      "execution_count": null,
      "outputs": []
    },
    {
      "cell_type": "code",
      "source": [
        "from keras.utils import plot_model\n",
        "plot_model(model,to_file=\"model_chart.png\",show_shapes=True,show_layer_names=True)\n",
        "from IPython.display import Image\n",
        "Image(\"model_chart.png\")"
      ],
      "metadata": {
        "id": "hxZZwG-zpt3d"
      },
      "execution_count": null,
      "outputs": []
    },
    {
      "cell_type": "code",
      "source": [
        "model.compile(loss=\"categorical_crossentropy\",optimizer=\"adam\",metrics=[\"accuracy\"])"
      ],
      "metadata": {
        "id": "2y-Gp2p4qd9h"
      },
      "execution_count": null,
      "outputs": []
    },
    {
      "cell_type": "code",
      "source": [
        "history=model.fit (X_train,y_train,batch_size=128,epochs=10,verbose=1)"
      ],
      "metadata": {
        "id": "4o7llrVLrdG2"
      },
      "execution_count": null,
      "outputs": []
    },
    {
      "cell_type": "code",
      "source": [
        "score=model.evaluate(X_test,y_test)\n",
        "print(\"Test accuracy:\",score[1])"
      ],
      "metadata": {
        "id": "XY3c6ZS4sOLM"
      },
      "execution_count": null,
      "outputs": []
    },
    {
      "cell_type": "code",
      "source": [
        "fig=plt.figure()\n",
        "plt.subplot(2,1,1)\n",
        "plt.plot(history.history[\"accuracy\"],color=\"green\")\n",
        "plt.title(\"model accuracy\")\n",
        "plt.ylabel(\"accuracy\")\n",
        "plt.xlabel(\"epoch\")\n",
        "\n",
        "plt.legend([\"train\",\"test\"],loc=\"lower right\")"
      ],
      "metadata": {
        "id": "h7id1j94su2m"
      },
      "execution_count": null,
      "outputs": []
    },
    {
      "cell_type": "code",
      "source": [
        "plt.subplot(2,1,2)\n",
        "plt.plot(history.history[\"loss\"],color=\"red\")\n",
        "plt.title(\"model loss\")\n",
        "plt.ylabel(\"loss\")\n",
        "plt.xlabel(\"epoch\")\n",
        "plt.legend([\"train\",\"test\"],loc=\"upper right\")\n"
      ],
      "metadata": {
        "id": "RWYnnkNQthX3"
      },
      "execution_count": null,
      "outputs": []
    },
    {
      "cell_type": "code",
      "source": [
        "test_data=pd.read_csv(\"/content/sample_data/mnist_test.csv\",delimiter=\",\",header=0,usecols=[x for x in range(0,784)])\n",
        "results = model.predict(test_data)"
      ],
      "metadata": {
        "id": "sbM4reNDt5i9"
      },
      "execution_count": null,
      "outputs": []
    },
    {
      "cell_type": "code",
      "source": [
        "results=np.argmax(results,axis=1)\n",
        "results=pd.Series(results,name=\"Label\")\n",
        "submission=pd.concat([pd.Series(range(1,28001),name=\"ImageId\"),results],axis=1)\n",
        "submission.to_csv(\"submission.csv\",index=False)"
      ],
      "metadata": {
        "id": "uTnwcohavjeO"
      },
      "execution_count": null,
      "outputs": []
    },
    {
      "cell_type": "code",
      "source": [
        "print(submission)"
      ],
      "metadata": {
        "id": "VAryrf6twFkQ"
      },
      "execution_count": null,
      "outputs": []
    },
    {
      "cell_type": "code",
      "source": [
        "\n",
        "predict_x=model.predict(X_test)\n",
        "classes_x=np.argmax(predict_x,axis=1)\n",
        "\n",
        "# Convert y_test to 1D array of class labels if it's one-hot encoded\n",
        "y_test_labels = np.argmax(y_test, axis=1)\n",
        "\n",
        "correct_indices=np.nonzero(classes_x==y_test_labels)[0]\n",
        "incorrect_indices=np.nonzero(classes_x!=y_test_labels)[0]"
      ],
      "metadata": {
        "id": "PkKCeaPKwZx7"
      },
      "execution_count": null,
      "outputs": []
    },
    {
      "cell_type": "code",
      "source": [
        "plt.figure()\n",
        "for i, correct in enumerate(correct_indices[:9]):\n",
        "    plt.subplot(3,3,i+1)\n",
        "    plt.imshow(X_test[correct].reshape(28,28),cmap=\"gray\",interpolation=\"none\")\n",
        "    plt.title(\"Predicted {}, Class {}\".format(classes_x[correct],y_test_labels[correct]))\n",
        "plt.tight_layout()"
      ],
      "metadata": {
        "id": "BKbfNzdeyTXS"
      },
      "execution_count": null,
      "outputs": []
    },
    {
      "cell_type": "code",
      "source": [
        "plt.figure()\n",
        "for i, incorrect in enumerate(incorrect_indices[:9]):\n",
        "    plt.subplot(3,3,i+1)\n",
        "    plt.imshow(X_test[incorrect].reshape(28,28),cmap=\"gray\",interpolation=\"none\")\n",
        "    plt.title(\"Predicted {}, Class {}\".format(classes_x[incorrect],y_test_labels[incorrect]))\n",
        "plt.tight_layout()"
      ],
      "metadata": {
        "id": "XrpK27V8zJxx"
      },
      "execution_count": null,
      "outputs": []
    },
    {
      "cell_type": "code",
      "source": [
        "df_2=pd.read_json('/content/sample_data/anscombe.json')\n",
        "print(df_2)\n"
      ],
      "metadata": {
        "id": "dV4hu1fs5f8l"
      },
      "execution_count": null,
      "outputs": []
    },
    {
      "cell_type": "code",
      "source": [
        "Series1 = df_2[df_2['Series'] == 'I']\n",
        "Series2 = df_2[df_2['Series'] == 'II']\n",
        "Series3 = df_2[df_2['Series'] == 'III']\n",
        "Series4 = df_2[df_2['Series'] == 'IV']\n",
        "\n",
        "\n",
        "\n",
        "\n",
        "\n",
        "# mean values (x-bar)\n",
        "x1_mean = Series1['X'].mean()\n",
        "x2_mean = Series2['X'].mean()\n",
        "x3_mean = Series3['X'].mean()\n",
        "x4_mean = Series4['X'].mean()\n",
        "\n",
        "# y-bar\n",
        "y1_mean = Series1['Y'].mean()\n",
        "y2_mean = Series2['Y'].mean()\n",
        "y3_mean = Series3['Y'].mean()\n",
        "y4_mean = Series4['Y'].mean()\n",
        "\n",
        "\n",
        "# Standard deviation values (x-bar)\n",
        "x1_std = Series1['X'].std()\n",
        "x2_std = Series2['X'].std()\n",
        "x3_std = Series3['X'].std()\n",
        "x4_std = Series4['X'].std()\n",
        "\n",
        "# Standard deviation values (y-bar)\n",
        "y1_std = Series1['Y'].std()\n",
        "y2_std = Series2['Y'].std()\n",
        "y3_std = Series3['Y'].std()\n",
        "y4_std = Series4['Y'].std()\n",
        "\n",
        "# Correlation\n",
        "correlation_x1y1 = np.corrcoef(Series1['X'],Series1['Y'])[0,1]\n",
        "correlation_x2y2 = np.corrcoef(Series2['X'],Series2['Y'])[0,1]\n",
        "correlation_x3y3 = np.corrcoef(Series3['X'],Series3['Y'])[0,1]\n",
        "correlation_x4y4 = np.corrcoef(Series4['X'],Series4['Y'])[0,1]\n",
        "\n",
        "# Linear Regression slope and intercept\n",
        "m1,c1 = np.polyfit(Series1['X'],Series1['Y'], 1)\n",
        "m2,c2 = np.polyfit(Series2['X'],Series2['Y'], 1)\n",
        "m3,c3 = np.polyfit(Series3['X'],Series3['Y'], 1)\n",
        "m4,c4 = np.polyfit(Series4['X'],Series4['Y'], 1)\n",
        "\n",
        "# Residual sum of squares error\n",
        "RSSY_1 = ((Series1['Y'] - (m1*Series1['X']+c1))**2).sum()\n",
        "RSSY_2 = ((Series2['Y'] - (m2*Series2['X']+c2))**2).sum()\n",
        "RSSY_3 = ((Series3['Y'] - (m3*Series3['X']+c3))**2).sum()\n",
        "RSSY_4 = ((Series4['Y'] - (m4*Series4['X']+c4))**2).sum()\n",
        "\n",
        "# Total sum of squares\n",
        "TSS_1 = ((Series1['Y'] - y1_mean)**2).sum()\n",
        "TSS_2 = ((Series2['Y'] - y2_mean)**2).sum()\n",
        "TSS_3 = ((Series3['Y'] - y3_mean)**2).sum()\n",
        "TSS_4 = ((Series4['Y'] - y4_mean)**2).sum()\n",
        "\n",
        "# R squared (coefficient of determination)\n",
        "R2_1 = 1 - (RSSY_1 / TSS_1)\n",
        "R2_2 = 1 - (RSSY_2 / TSS_2)\n",
        "R2_3 = 1 - (RSSY_3 / TSS_3)\n",
        "R2_4 = 1 - (RSSY_4 / TSS_4)\n",
        "\n",
        "# Create a pandas dataframe to represent the summary statistics\n",
        "summary_stats = pd.DataFrame({'Mean_x': [x1_mean, x2_mean, x3_mean, x4_mean],\n",
        "\t\t\t\t\t\t\t'Variance_x': [x1_std**2, x2_std**2, x3_std**2, x4_std**2],\n",
        "\t\t\t\t\t\t\t'Mean_y': [y1_mean, y2_mean, y3_mean, y4_mean],\n",
        "\t\t\t\t\t\t\t'Variance_y': [y1_std**2, y2_std**2, y3_std**2, y4_std**2],\n",
        "\t\t\t\t\t\t\t'Correlation': [correlation_x1y1, correlation_x2y2, correlation_x3y3, correlation_x4y4],\n",
        "\t\t\t\t\t\t\t'Linear Regression slope': [m1, m2, m3, m4],\n",
        "\t\t\t\t\t\t\t'Linear Regression intercept': [c1, c2, c3, c4]},\n",
        "index = ['I', 'II', 'III', 'IV'])\n",
        "print(summary_stats.T)\n"
      ],
      "metadata": {
        "id": "pkakZxJC7DGW"
      },
      "execution_count": null,
      "outputs": []
    },
    {
      "cell_type": "code",
      "source": [
        "# plot all four plots\n",
        "fig, axs = plt.subplots(2, 2, figsize=(18,12), dpi=500)\n",
        "\n",
        "axs[0, 0].set_title('Dataset I', fontsize=20)\n",
        "axs[0, 0].set_xlabel('X', fontsize=13)\n",
        "axs[0, 0].set_ylabel('Y', fontsize=13)\n",
        "axs[0, 0].plot(Series1['X'], Series1['Y'], 'go')\n",
        "axs[0, 0].plot(Series1['X'], m1*Series1['X']+c1,'r',label='Y='+str(round(m1,2))+'x +'+str(round(c1,2)))\n",
        "axs[0, 0].legend(loc='best',fontsize=16)\n",
        "\n",
        "axs[0, 1].set_title('Dataset II', fontsize=20)\n",
        "axs[0, 1].set_xlabel('X', fontsize=13)\n",
        "axs[0, 1].set_ylabel('Y', fontsize=13)\n",
        "axs[0, 1].plot(Series2['X'], Series2['Y'], 'go')\n",
        "axs[0, 1].plot(Series2['X'], m2*Series2['X']+c2,'r',label='Y='+str(round(m2,2))+'x +'+str(round(c2,2)))\n",
        "axs[0, 1].legend(loc='best',fontsize=16)\n",
        "\n",
        "axs[1, 0].set_title('Dataset III', fontsize=20)\n",
        "axs[1, 0].set_xlabel('X', fontsize=13)\n",
        "axs[1, 0].set_ylabel('Y', fontsize=13)\n",
        "axs[1, 0].plot(Series3['X'], Series3['Y'], 'go')\n",
        "axs[1, 0].plot(Series3['X'], m3*Series3['X']+c3,'r',label='Y='+str(round(m3,2))+'x +'+str(round(c3,2)))\n",
        "axs[1, 0].legend(loc='best',fontsize=16)\n",
        "\n",
        "axs[1, 1].set_title('Dataset IV', fontsize=20)\n",
        "axs[1, 1].set_xlabel('X', fontsize=13)\n",
        "axs[1, 1].set_ylabel('Y', fontsize=13)\n",
        "axs[1, 1].plot(Series4['X'], Series4['Y'], 'go')\n",
        "axs[1, 1].plot(Series4['X'], m4*Series4['X']+c4,'r',label='Y='+str(round(m4,2))+'x +'+str(round(c4,2)))\n",
        "axs[1, 1].legend(loc='best',fontsize=16)\n",
        "\n",
        "\n",
        "\n",
        "\n",
        "\n",
        "plt.show()\n"
      ],
      "metadata": {
        "id": "3-r-KQU6E_LH"
      },
      "execution_count": null,
      "outputs": []
    }
  ],
  "metadata": {
    "colab": {
      "name": "Linear Regression with Synthetic Data.ipynb",
      "private_outputs": true,
      "provenance": [],
      "include_colab_link": true
    },
    "kernelspec": {
      "display_name": "Python 3",
      "name": "python3"
    }
  },
  "nbformat": 4,
  "nbformat_minor": 0
}